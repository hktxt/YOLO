{
 "cells": [
  {
   "cell_type": "code",
   "execution_count": 78,
   "metadata": {},
   "outputs": [],
   "source": [
    "pt = 'test'"
   ]
  },
  {
   "cell_type": "code",
   "execution_count": 79,
   "metadata": {},
   "outputs": [],
   "source": [
    "import os"
   ]
  },
  {
   "cell_type": "code",
   "execution_count": 80,
   "metadata": {},
   "outputs": [
    {
     "data": {
      "text/plain": [
       "['.ipynb_checkpoints', 'a-Copy1.txtt', 'a.txt']"
      ]
     },
     "execution_count": 80,
     "metadata": {},
     "output_type": "execute_result"
    }
   ],
   "source": [
    "files = os.listdir(pt);files"
   ]
  },
  {
   "cell_type": "code",
   "execution_count": 82,
   "metadata": {},
   "outputs": [
    {
     "name": "stdout",
     "output_type": "stream",
     "text": [
      "['1', '2', '3', '4', '5', '5', '1', '2', '4', '2', '3', '54', '5']\n",
      "['5', '1', '2', '4', '2', '3', '54', '5']\n",
      "['2', '3', '54', '5']\n",
      "[]\n",
      "['2', '3', '5', '4', '6', '1', '2', '2', '3', '5', '6', '3', '4']\n",
      "['1', '2', '2', '3', '5', '6', '3', '4']\n",
      "['5', '6', '3', '4']\n",
      "[]\n"
     ]
    }
   ],
   "source": [
    "for file in files:\n",
    "    if file.endswith('.txt'):\n",
    "        with open(os.path.join(pt,file), 'r') as f:\n",
    "            d = f.read().splitlines()\n",
    "        #os.remove(os.path.join(pt,file))\n",
    "        with open(os.path.join(pt,file), 'w') as f1:\n",
    "            for line in d:\n",
    "                cor = line.split(' ')\n",
    "                print(cor)\n",
    "                i = 0\n",
    "                while(len(cor) >= 4):\n",
    "                    if i > 0:\n",
    "                        f1.writelines('0'+' ')\n",
    "                        for j in range(4):\n",
    "                            f1.writelines(cor[j]+' ')\n",
    "                        f1.writelines('\\n')\n",
    "                        cor = cor[4:]\n",
    "                        print(cor)\n",
    "                    else:\n",
    "                        for j in range(5):\n",
    "                            f1.writelines(cor[j]+' ')\n",
    "                        f1.writelines('\\n')\n",
    "                        cor = cor[5:]\n",
    "                        print(cor)\n",
    "                    i += 1"
   ]
  }
 ],
 "metadata": {
  "kernelspec": {
   "display_name": "Python 3",
   "language": "python",
   "name": "python3"
  },
  "language_info": {
   "codemirror_mode": {
    "name": "ipython",
    "version": 3
   },
   "file_extension": ".py",
   "mimetype": "text/x-python",
   "name": "python",
   "nbconvert_exporter": "python",
   "pygments_lexer": "ipython3",
   "version": "3.6.8"
  }
 },
 "nbformat": 4,
 "nbformat_minor": 2
}

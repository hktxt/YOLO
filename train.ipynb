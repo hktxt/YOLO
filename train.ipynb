{
 "cells": [
  {
   "cell_type": "markdown",
   "metadata": {},
   "source": [
    "# train"
   ]
  },
  {
   "cell_type": "code",
   "execution_count": 1,
   "metadata": {},
   "outputs": [],
   "source": [
    "from torch.utils.data import DataLoader\n",
    "import torch.nn as nn\n",
    "from utils.datasets import LoadDataset\n",
    "from utils import torch_utils\n",
    "import time\n",
    "import rtest\n",
    "from tqdm import tqdm\n",
    "from models import *\n",
    "import os"
   ]
  },
  {
   "cell_type": "code",
   "execution_count": 2,
   "metadata": {},
   "outputs": [
    {
     "name": "stdout",
     "output_type": "stream",
     "text": [
      "Using CUDA device0 _CudaDeviceProperties(name='GeForce RTX 2070', total_memory=8192MB)\n"
     ]
    }
   ],
   "source": [
    "# specify visible GPU\n",
    "os.environ[\"CUDA_VISIBLE_DEVICES\"] = '0'\n",
    "device = torch_utils.select_device()"
   ]
  },
  {
   "cell_type": "code",
   "execution_count": 3,
   "metadata": {},
   "outputs": [],
   "source": [
    "IMG_SIZE = 416\n",
    "EPOCHES = 270\n",
    "BATCH_SIZE = 10\n",
    "START_EPOCH = 0\n",
    "CFG = 'cfg/yolov3-tiny.cfg'\n",
    "DATA_CFG = 'cfg/coco.data'\n",
    "NUM_WORKERS = 5\n",
    "FREEZE_BACKBONE = False\n",
    "FROM_SCRATCH = True\n",
    "\n",
    "weights = 'F:/Dev/weights/'\n",
    "latest = os.path.join(weights, 'latest.pt')\n",
    "best = os.path.join(weights, 'best.pt')"
   ]
  },
  {
   "cell_type": "code",
   "execution_count": 4,
   "metadata": {},
   "outputs": [
    {
     "data": {
      "text/plain": [
       "'C:/coco/trainvalno5kn.txt'"
      ]
     },
     "execution_count": 4,
     "metadata": {},
     "output_type": "execute_result"
    }
   ],
   "source": [
    "train_path = parse_data_cfg(DATA_CFG)['train'];train_path"
   ]
  },
  {
   "cell_type": "code",
   "execution_count": 6,
   "metadata": {},
   "outputs": [
    {
     "data": {
      "text/plain": [
       "torch.Size([3, 416, 416])"
      ]
     },
     "execution_count": 6,
     "metadata": {},
     "output_type": "execute_result"
    }
   ],
   "source": [
    "# Dataset\n",
    "dataset = LoadDataset(train_path, img_size=IMG_SIZE);dataset[122][0].shape"
   ]
  },
  {
   "cell_type": "code",
   "execution_count": 7,
   "metadata": {},
   "outputs": [],
   "source": [
    "# model\n",
    "model = Darknet(CFG, IMG_SIZE).to(device)"
   ]
  },
  {
   "cell_type": "code",
   "execution_count": 8,
   "metadata": {},
   "outputs": [],
   "source": [
    "# Dataloader\n",
    "dataloader = DataLoader(dataset, batch_size=BATCH_SIZE, num_workers=NUM_WORKERS, shuffle=False, pin_memory=True, collate_fn=dataset.collate_fn)"
   ]
  },
  {
   "cell_type": "code",
   "execution_count": 10,
   "metadata": {},
   "outputs": [],
   "source": [
    "# check Dataloader\n",
    "for i, (imgs, targets, _, _) in enumerate(dataloader):\n",
    "    #print(targets.shape)\n",
    "    plot_images(imgs=imgs, targets=targets, fname='train_batch0.jpg')\n",
    "    if i == 0:\n",
    "        break"
   ]
  },
  {
   "cell_type": "code",
   "execution_count": 9,
   "metadata": {},
   "outputs": [],
   "source": [
    "cutoff = -1  # backbone reaches to cutoff layer\n",
    "START_EPOCH = 0\n",
    "best_loss = float('inf')\n",
    "\n",
    "if not FROM_SCRATCH:\n",
    "    if '-tiny.cfg' in CFG:\n",
    "        cutoff = load_darknet_weights(model, weights + 'yolov3-tiny.conv.15')\n",
    "    else:\n",
    "        cutoff = load_darknet_weights(model, weights + 'darknet53.conv.74')"
   ]
  },
  {
   "cell_type": "code",
   "execution_count": 10,
   "metadata": {},
   "outputs": [],
   "source": [
    "if torch.cuda.device_count() > 1:\n",
    "    print(\"Let's use\", torch.cuda.device_count(), \"GPUs!\")\n",
    "    model = nn.DataParallel(model)\n",
    "model.to(device);"
   ]
  },
  {
   "cell_type": "code",
   "execution_count": 11,
   "metadata": {},
   "outputs": [
    {
     "name": "stdout",
     "output_type": "stream",
     "text": [
      "\n",
      "layer                                     name  gradient   parameters                shape         mu      sigma\n",
      "    0                          0.conv_0.weight      True          432        [16, 3, 3, 3]    0.00468      0.113\n",
      "    1                    0.batch_norm_0.weight      True           16                 [16]      0.629      0.205\n",
      "    2                      0.batch_norm_0.bias      True           16                 [16]          0          0\n",
      "    3                          2.conv_2.weight      True         4608       [32, 16, 3, 3]   0.000556     0.0485\n",
      "    4                    2.batch_norm_2.weight      True           32                 [32]      0.586      0.248\n",
      "    5                      2.batch_norm_2.bias      True           32                 [32]          0          0\n",
      "    6                          4.conv_4.weight      True        18432       [64, 32, 3, 3]   -0.00058     0.0339\n",
      "    7                    4.batch_norm_4.weight      True           64                 [64]       0.47      0.276\n",
      "    8                      4.batch_norm_4.bias      True           64                 [64]          0          0\n",
      "    9                          6.conv_6.weight      True        73728      [128, 64, 3, 3]   6.72e-05     0.0241\n",
      "   10                    6.batch_norm_6.weight      True          128                [128]      0.529      0.265\n",
      "   11                      6.batch_norm_6.bias      True          128                [128]          0          0\n",
      "   12                          8.conv_8.weight      True       294912     [256, 128, 3, 3]  -5.67e-05      0.017\n",
      "   13                    8.batch_norm_8.weight      True          256                [256]      0.506      0.293\n",
      "   14                      8.batch_norm_8.bias      True          256                [256]          0          0\n",
      "   15                        10.conv_10.weight      True  1.17965e+06     [512, 256, 3, 3]   5.21e-06      0.012\n",
      "   16                  10.batch_norm_10.weight      True          512                [512]      0.509      0.285\n",
      "   17                    10.batch_norm_10.bias      True          512                [512]          0          0\n",
      "   18                        12.conv_12.weight      True  4.71859e+06    [1024, 512, 3, 3]   4.41e-06    0.00851\n",
      "   19                  12.batch_norm_12.weight      True         1024               [1024]      0.491      0.291\n",
      "   20                    12.batch_norm_12.bias      True         1024               [1024]          0          0\n",
      "   21                        13.conv_13.weight      True       262144    [256, 1024, 1, 1]  -4.57e-06     0.0181\n",
      "   22                  13.batch_norm_13.weight      True          256                [256]      0.479      0.274\n",
      "   23                    13.batch_norm_13.bias      True          256                [256]          0          0\n",
      "   24                        14.conv_14.weight      True  1.17965e+06     [512, 256, 3, 3]  -1.08e-05      0.012\n",
      "   25                  14.batch_norm_14.weight      True          512                [512]      0.505      0.285\n",
      "   26                    14.batch_norm_14.bias      True          512                [512]          0          0\n",
      "   27                        15.conv_15.weight      True       130560     [255, 512, 1, 1]  -4.66e-05     0.0255\n",
      "   28                          15.conv_15.bias      True          255                [255]   -0.00026     0.0265\n",
      "   29                        18.conv_18.weight      True        32768     [128, 256, 1, 1]   2.75e-05     0.0361\n",
      "   30                  18.batch_norm_18.weight      True          128                [128]       0.49      0.268\n",
      "   31                    18.batch_norm_18.bias      True          128                [128]          0          0\n",
      "   32                        21.conv_21.weight      True       884736     [256, 384, 3, 3]  -4.52e-06    0.00982\n",
      "   33                  21.batch_norm_21.weight      True          256                [256]      0.501      0.289\n",
      "   34                    21.batch_norm_21.bias      True          256                [256]          0          0\n",
      "   35                        22.conv_22.weight      True        65280     [255, 256, 1, 1]   1.85e-05     0.0361\n",
      "   36                          22.conv_22.bias      True          255                [255]  -0.000718     0.0368\n",
      "Model Summary: 37 layers, 8.85237e+06 parameters, 8.85237e+06 gradients\n"
     ]
    }
   ],
   "source": [
    "model_info(model)"
   ]
  },
  {
   "cell_type": "code",
   "execution_count": 12,
   "metadata": {},
   "outputs": [],
   "source": [
    "# Optimizer\n",
    "lr0 = 0.001  # initial learning rate\n",
    "optimizer = torch.optim.SGD(model.parameters(), lr=lr0, momentum=0.9, weight_decay=0.0005)\n",
    "\n",
    "# Scheduler (reduce lr at epochs 218, 245, i.e. batches 400k, 450k)\n",
    "scheduler = torch.optim.lr_scheduler.MultiStepLR(optimizer, milestones=[218, 245], gamma=0.1,\n",
    "                                                 last_epoch=START_EPOCH - 1)"
   ]
  },
  {
   "cell_type": "code",
   "execution_count": 13,
   "metadata": {},
   "outputs": [
    {
     "name": "stderr",
     "output_type": "stream",
     "text": [
      "7it [00:02,  1.28it/s]\n"
     ]
    },
    {
     "ename": "KeyboardInterrupt",
     "evalue": "",
     "output_type": "error",
     "traceback": [
      "\u001b[1;31m---------------------------------------------------------------------------\u001b[0m",
      "\u001b[1;31mKeyboardInterrupt\u001b[0m                         Traceback (most recent call last)",
      "\u001b[1;32m<ipython-input-13-874eff1ee7b8>\u001b[0m in \u001b[0;36m<module>\u001b[1;34m\u001b[0m\n\u001b[0;32m     41\u001b[0m \u001b[1;33m\u001b[0m\u001b[0m\n\u001b[0;32m     42\u001b[0m         \u001b[1;31m# Compute gradient\u001b[0m\u001b[1;33m\u001b[0m\u001b[1;33m\u001b[0m\u001b[1;33m\u001b[0m\u001b[0m\n\u001b[1;32m---> 43\u001b[1;33m         \u001b[0mloss\u001b[0m\u001b[1;33m.\u001b[0m\u001b[0mbackward\u001b[0m\u001b[1;33m(\u001b[0m\u001b[1;33m)\u001b[0m\u001b[1;33m\u001b[0m\u001b[1;33m\u001b[0m\u001b[0m\n\u001b[0m\u001b[0;32m     44\u001b[0m \u001b[1;33m\u001b[0m\u001b[0m\n\u001b[0;32m     45\u001b[0m         \u001b[1;31m# Accumulate gradient for x batches before optimizing\u001b[0m\u001b[1;33m\u001b[0m\u001b[1;33m\u001b[0m\u001b[1;33m\u001b[0m\u001b[0m\n",
      "\u001b[1;32mE:\\Anaconda3\\envs\\pytorch\\lib\\site-packages\\torch\\tensor.py\u001b[0m in \u001b[0;36mbackward\u001b[1;34m(self, gradient, retain_graph, create_graph)\u001b[0m\n\u001b[0;32m    100\u001b[0m                 \u001b[0mproducts\u001b[0m\u001b[1;33m.\u001b[0m \u001b[0mDefaults\u001b[0m \u001b[0mto\u001b[0m\u001b[0;31m \u001b[0m\u001b[0;31m`\u001b[0m\u001b[0;31m`\u001b[0m\u001b[1;32mFalse\u001b[0m\u001b[0;31m`\u001b[0m\u001b[0;31m`\u001b[0m\u001b[1;33m.\u001b[0m\u001b[1;33m\u001b[0m\u001b[1;33m\u001b[0m\u001b[0m\n\u001b[0;32m    101\u001b[0m         \"\"\"\n\u001b[1;32m--> 102\u001b[1;33m         \u001b[0mtorch\u001b[0m\u001b[1;33m.\u001b[0m\u001b[0mautograd\u001b[0m\u001b[1;33m.\u001b[0m\u001b[0mbackward\u001b[0m\u001b[1;33m(\u001b[0m\u001b[0mself\u001b[0m\u001b[1;33m,\u001b[0m \u001b[0mgradient\u001b[0m\u001b[1;33m,\u001b[0m \u001b[0mretain_graph\u001b[0m\u001b[1;33m,\u001b[0m \u001b[0mcreate_graph\u001b[0m\u001b[1;33m)\u001b[0m\u001b[1;33m\u001b[0m\u001b[1;33m\u001b[0m\u001b[0m\n\u001b[0m\u001b[0;32m    103\u001b[0m \u001b[1;33m\u001b[0m\u001b[0m\n\u001b[0;32m    104\u001b[0m     \u001b[1;32mdef\u001b[0m \u001b[0mregister_hook\u001b[0m\u001b[1;33m(\u001b[0m\u001b[0mself\u001b[0m\u001b[1;33m,\u001b[0m \u001b[0mhook\u001b[0m\u001b[1;33m)\u001b[0m\u001b[1;33m:\u001b[0m\u001b[1;33m\u001b[0m\u001b[1;33m\u001b[0m\u001b[0m\n",
      "\u001b[1;32mE:\\Anaconda3\\envs\\pytorch\\lib\\site-packages\\torch\\autograd\\__init__.py\u001b[0m in \u001b[0;36mbackward\u001b[1;34m(tensors, grad_tensors, retain_graph, create_graph, grad_variables)\u001b[0m\n\u001b[0;32m     88\u001b[0m     Variable._execution_engine.run_backward(\n\u001b[0;32m     89\u001b[0m         \u001b[0mtensors\u001b[0m\u001b[1;33m,\u001b[0m \u001b[0mgrad_tensors\u001b[0m\u001b[1;33m,\u001b[0m \u001b[0mretain_graph\u001b[0m\u001b[1;33m,\u001b[0m \u001b[0mcreate_graph\u001b[0m\u001b[1;33m,\u001b[0m\u001b[1;33m\u001b[0m\u001b[1;33m\u001b[0m\u001b[0m\n\u001b[1;32m---> 90\u001b[1;33m         allow_unreachable=True)  # allow_unreachable flag\n\u001b[0m\u001b[0;32m     91\u001b[0m \u001b[1;33m\u001b[0m\u001b[0m\n\u001b[0;32m     92\u001b[0m \u001b[1;33m\u001b[0m\u001b[0m\n",
      "\u001b[1;31mKeyboardInterrupt\u001b[0m: "
     ]
    }
   ],
   "source": [
    "# Start training\n",
    "t = time.time()\n",
    "nB = len(dataloader) # num of batches\n",
    "n_burnin = min(round(nB / 5 + 1), 1000)\n",
    "accumulate = 1\n",
    "multi_scale = False\n",
    "\n",
    "for epoch in range(START_EPOCH, EPOCHES):\n",
    "    model.train()\n",
    "    #print(('\\n%8s%12s' + '%10s' * 7) % ('Epoch', 'Batch', 'xy', 'wh', 'conf', 'cls', 'total', 'nTargets', 'time'))\n",
    "\n",
    "    # Update scheduler\n",
    "    scheduler.step()\n",
    "\n",
    "    # Freeze backbone at epoch 0, unfreeze at epoch 1\n",
    "    if FREEZE_BACKBONE and epoch < 2:\n",
    "        for name, p in model.named_parameters():\n",
    "            if int(name.split('.')[1]) < cutoff:  # if layer < 75\n",
    "                p.requires_grad = False if epoch == 0 else True\n",
    "\n",
    "    mloss = torch.zeros(5).to(device) # mean losses\n",
    "    for i, (imgs, targets, _, _) in tqdm(enumerate(dataloader)):\n",
    "        imgs = imgs.to(device)\n",
    "        targets = targets.to(device)\n",
    "        nt = len(targets)\n",
    "\n",
    "        # SGD burn-in\n",
    "        if epoch == 0 and i <= n_burnin:\n",
    "            lr = lr0 * (i / n_burnin) ** 4\n",
    "            for x in optimizer.param_groups:\n",
    "                x['lr'] = lr\n",
    "\n",
    "        # Run model\n",
    "        pred = model(imgs)\n",
    "\n",
    "        # Build targets\n",
    "        target_list = build_targets(model, targets)\n",
    "\n",
    "        # Compute loss\n",
    "        loss, loss_items = compute_loss(pred, target_list)\n",
    "\n",
    "        # Compute gradient\n",
    "        loss.backward()\n",
    "\n",
    "        # Accumulate gradient for x batches before optimizing\n",
    "        if (i + 1) % accumulate == 0 or (i + 1) == nB:\n",
    "            optimizer.step()\n",
    "            optimizer.zero_grad()\n",
    "\n",
    "        # Update running mean of tracked metrics\n",
    "        mloss = (mloss * i + loss_items) / (i + 1)\n",
    "\n",
    "        # Print batch results\n",
    "        s = ('%8s%12s' + '%10.3g' * 7) % (\n",
    "            '%g/%g' % (epoch, EPOCHES - 1),\n",
    "            '%g/%g' % (i, nB - 1), *mloss, nt, time.time() - t)\n",
    "        t = time.time()\n",
    "        #print(s)\n",
    "\n",
    "        # Multi-Scale training (320 - 608 pixels) every 10 batches\n",
    "        if multi_scale and (i + 1) % 10 == 0:\n",
    "            dataset.img_size = random.choice(range(10, 20)) * 32\n",
    "            print('multi_scale img_size = %g' % dataset.img_size)\n",
    "\n",
    "    # Calculate mAP\n",
    "    with torch.no_grad():\n",
    "        results = rtest.test(CFG, DATA_CFG, batch_size=BATCH_SIZE, img_size=IMG_SIZE, model=model, conf_thres=0.1)\n",
    "\n",
    "    # Write epoch results\n",
    "    with open('results.txt', 'a') as file:\n",
    "        file.write(s + '%11.3g' * 5 % results + '\\n')  # P, R, mAP, F1, test_loss\n",
    "\n",
    "    # Update best loss\n",
    "    test_loss = results[4]\n",
    "    if test_loss < best_loss:\n",
    "        best_loss = test_loss\n",
    "\n",
    "    # Save training results\n",
    "    save = True\n",
    "    if save:\n",
    "        # Create checkpoint\n",
    "        chkpt = {'epoch': epoch,\n",
    "                 'best_loss': best_loss,\n",
    "                 'model': model.module.state_dict() if type(\n",
    "                     model) is nn.parallel.DistributedDataParallel else model.state_dict(),\n",
    "                 'optimizer': optimizer.state_dict()}\n",
    "\n",
    "        # Save latest checkpoint\n",
    "        torch.save(chkpt, latest)\n",
    "\n",
    "        # Save best checkpoint\n",
    "        if best_loss == test_loss:\n",
    "            torch.save(chkpt, best)\n",
    "\n",
    "        # Save backup every 10 epochs (optional)\n",
    "        if epoch > 0 and epoch % 10 == 0:\n",
    "            torch.save(chkpt, weights + 'backup%g.pt' % epoch)\n",
    "\n",
    "        # Delete checkpoint\n",
    "        del chkpt"
   ]
  },
  {
   "cell_type": "code",
   "execution_count": null,
   "metadata": {},
   "outputs": [],
   "source": []
  }
 ],
 "metadata": {
  "kernelspec": {
   "display_name": "Python 3",
   "language": "python",
   "name": "python3"
  },
  "language_info": {
   "codemirror_mode": {
    "name": "ipython",
    "version": 3
   },
   "file_extension": ".py",
   "mimetype": "text/x-python",
   "name": "python",
   "nbconvert_exporter": "python",
   "pygments_lexer": "ipython3",
   "version": "3.6.7"
  }
 },
 "nbformat": 4,
 "nbformat_minor": 2
}

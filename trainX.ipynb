{
 "cells": [
  {
   "cell_type": "markdown",
   "metadata": {},
   "source": [
    "# train"
   ]
  },
  {
   "cell_type": "code",
   "execution_count": 1,
   "metadata": {},
   "outputs": [],
   "source": [
    "from torch.utils.data import DataLoader\n",
    "import torch.nn as nn\n",
    "from utils.datasets import LoadDataset\n",
    "from utils import torch_utils\n",
    "import time\n",
    "import rtest\n",
    "from tqdm import tnrange, tqdm_notebook\n",
    "from models import *\n",
    "import os\n",
    "from tqdm import tnrange, tqdm_notebook\n",
    "import tensorboardX"
   ]
  },
  {
   "cell_type": "code",
   "execution_count": 2,
   "metadata": {},
   "outputs": [
    {
     "name": "stdout",
     "output_type": "stream",
     "text": [
      "Using CUDA device0 _CudaDeviceProperties(name='GeForce RTX 2070', total_memory=8192MB)\n"
     ]
    }
   ],
   "source": [
    "# specify visible GPU\n",
    "os.environ[\"CUDA_VISIBLE_DEVICES\"] = '0'\n",
    "device = torch_utils.select_device()"
   ]
  },
  {
   "cell_type": "code",
   "execution_count": 3,
   "metadata": {},
   "outputs": [],
   "source": [
    "IMG_SIZE = 416\n",
    "EPOCHES = 240\n",
    "BATCH_SIZE = 10\n",
    "START_EPOCH = 0\n",
    "CFG = 'cfg/yolov3-tiny.cfg'\n",
    "DATA_CFG = 'cfg/coco.data'\n",
    "NUM_WORKERS = 5\n",
    "FREEZE_BACKBONE = False\n",
    "FROM_SCRATCH = True\n",
    "NAME = 'train_yolo-tiny_{}'.format(int(time.time()))\n",
    "\n",
    "LOG_PATH = 'logs/'\n",
    "weights = 'weights/'\n",
    "latest = os.path.join(weights, 'latest.pt')\n",
    "best = os.path.join(weights, 'best.pt')\n",
    "TBoard = tensorboardX.SummaryWriter(log_dir=os.path.join(LOG_PATH, NAME))"
   ]
  },
  {
   "cell_type": "code",
   "execution_count": 4,
   "metadata": {},
   "outputs": [
    {
     "data": {
      "text/plain": [
       "'C:/coco/trainvalno5k.txt'"
      ]
     },
     "execution_count": 4,
     "metadata": {},
     "output_type": "execute_result"
    }
   ],
   "source": [
    "train_path = parse_data_cfg(DATA_CFG)['train'];train_path"
   ]
  },
  {
   "cell_type": "code",
   "execution_count": 5,
   "metadata": {},
   "outputs": [],
   "source": [
    "# Dataset\n",
    "dataset = LoadDataset(train_path, img_size=IMG_SIZE)"
   ]
  },
  {
   "cell_type": "code",
   "execution_count": 6,
   "metadata": {},
   "outputs": [],
   "source": [
    "# model\n",
    "model = Darknet(CFG, IMG_SIZE).to(device)"
   ]
  },
  {
   "cell_type": "code",
   "execution_count": 7,
   "metadata": {},
   "outputs": [],
   "source": [
    "# Dataloader\n",
    "dataloader = DataLoader(dataset, batch_size=BATCH_SIZE, num_workers=NUM_WORKERS, shuffle=False, pin_memory=True, collate_fn=dataset.collate_fn)"
   ]
  },
  {
   "cell_type": "code",
   "execution_count": 8,
   "metadata": {},
   "outputs": [
    {
     "data": {
      "text/plain": [
       "11727"
      ]
     },
     "execution_count": 8,
     "metadata": {},
     "output_type": "execute_result"
    }
   ],
   "source": [
    "len(dataloader)"
   ]
  },
  {
   "cell_type": "code",
   "execution_count": 9,
   "metadata": {},
   "outputs": [],
   "source": [
    "# check Dataloader\n",
    "for i, (imgs, targets, _, _) in enumerate(dataloader):\n",
    "    #print(targets.shape)\n",
    "    plot_images(imgs=imgs, targets=targets, fname='train_batch0.jpg')\n",
    "    if i == 0:\n",
    "        break"
   ]
  },
  {
   "cell_type": "code",
   "execution_count": 10,
   "metadata": {},
   "outputs": [],
   "source": [
    "cutoff = -1  # backbone reaches to cutoff layer\n",
    "START_EPOCH = 0\n",
    "best_loss = float('inf')\n",
    "\n",
    "if not FROM_SCRATCH:\n",
    "    if '-tiny.cfg' in CFG:\n",
    "        cutoff = load_darknet_weights(model, weights + 'yolov3-tiny.conv.15')\n",
    "    else:\n",
    "        cutoff = load_darknet_weights(model, weights + 'darknet53.conv.74')"
   ]
  },
  {
   "cell_type": "code",
   "execution_count": 11,
   "metadata": {},
   "outputs": [],
   "source": [
    "if torch.cuda.device_count() > 1:\n",
    "    print(\"Let's use\", torch.cuda.device_count(), \"GPUs!\")\n",
    "    model = nn.DataParallel(model)\n",
    "model.to(device);"
   ]
  },
  {
   "cell_type": "code",
   "execution_count": 12,
   "metadata": {},
   "outputs": [
    {
     "name": "stdout",
     "output_type": "stream",
     "text": [
      "\n",
      "layer                                     name  gradient   parameters                shape         mu      sigma\n",
      "    0                          0.conv_0.weight      True          432        [16, 3, 3, 3]  -3.65e-05      0.113\n",
      "    1                    0.batch_norm_0.weight      True           16                 [16]      0.551      0.287\n",
      "    2                      0.batch_norm_0.bias      True           16                 [16]          0          0\n",
      "    3                          2.conv_2.weight      True         4608       [32, 16, 3, 3]    -0.0015     0.0481\n",
      "    4                    2.batch_norm_2.weight      True           32                 [32]      0.517      0.258\n",
      "    5                      2.batch_norm_2.bias      True           32                 [32]          0          0\n",
      "    6                          4.conv_4.weight      True        18432       [64, 32, 3, 3]   0.000234     0.0341\n",
      "    7                    4.batch_norm_4.weight      True           64                 [64]      0.501      0.319\n",
      "    8                      4.batch_norm_4.bias      True           64                 [64]          0          0\n",
      "    9                          6.conv_6.weight      True        73728      [128, 64, 3, 3]   6.42e-06     0.0239\n",
      "   10                    6.batch_norm_6.weight      True          128                [128]        0.5      0.287\n",
      "   11                      6.batch_norm_6.bias      True          128                [128]          0          0\n",
      "   12                          8.conv_8.weight      True       294912     [256, 128, 3, 3]  -4.02e-05      0.017\n",
      "   13                    8.batch_norm_8.weight      True          256                [256]      0.502      0.294\n",
      "   14                      8.batch_norm_8.bias      True          256                [256]          0          0\n",
      "   15                        10.conv_10.weight      True  1.17965e+06     [512, 256, 3, 3]   3.53e-06      0.012\n",
      "   16                  10.batch_norm_10.weight      True          512                [512]      0.512      0.289\n",
      "   17                    10.batch_norm_10.bias      True          512                [512]          0          0\n",
      "   18                        12.conv_12.weight      True  4.71859e+06    [1024, 512, 3, 3]  -2.99e-06     0.0085\n",
      "   19                  12.batch_norm_12.weight      True         1024               [1024]      0.494      0.296\n",
      "   20                    12.batch_norm_12.bias      True         1024               [1024]          0          0\n",
      "   21                        13.conv_13.weight      True       262144    [256, 1024, 1, 1]   2.53e-05      0.018\n",
      "   22                  13.batch_norm_13.weight      True          256                [256]      0.519      0.289\n",
      "   23                    13.batch_norm_13.bias      True          256                [256]          0          0\n",
      "   24                        14.conv_14.weight      True  1.17965e+06     [512, 256, 3, 3]  -1.59e-06      0.012\n",
      "   25                  14.batch_norm_14.weight      True          512                [512]      0.499      0.288\n",
      "   26                    14.batch_norm_14.bias      True          512                [512]          0          0\n",
      "   27                        15.conv_15.weight      True       130560     [255, 512, 1, 1]   6.34e-05     0.0255\n",
      "   28                          15.conv_15.bias      True          255                [255]   0.000409     0.0261\n",
      "   29                        18.conv_18.weight      True        32768     [128, 256, 1, 1]   7.64e-05     0.0359\n",
      "   30                  18.batch_norm_18.weight      True          128                [128]      0.541      0.302\n",
      "   31                    18.batch_norm_18.bias      True          128                [128]          0          0\n",
      "   32                        21.conv_21.weight      True       884736     [256, 384, 3, 3]  -1.35e-05    0.00982\n",
      "   33                  21.batch_norm_21.weight      True          256                [256]      0.476      0.295\n",
      "   34                    21.batch_norm_21.bias      True          256                [256]          0          0\n",
      "   35                        22.conv_22.weight      True        65280     [255, 256, 1, 1]  -3.37e-05     0.0361\n",
      "   36                          22.conv_22.bias      True          255                [255]    0.00107     0.0355\n",
      "Model Summary: 37 layers, 8.85237e+06 parameters, 8.85237e+06 gradients\n"
     ]
    }
   ],
   "source": [
    "model_info(model)"
   ]
  },
  {
   "cell_type": "code",
   "execution_count": 13,
   "metadata": {},
   "outputs": [],
   "source": [
    "# Optimizer\n",
    "lr0 = 0.001  # initial learning rate\n",
    "optimizer = torch.optim.SGD(model.parameters(), lr=lr0, momentum=0.9, weight_decay=0.0005)\n",
    "\n",
    "# Scheduler (reduce lr at epochs 218, 245, i.e. batches 400k, 450k)\n",
    "scheduler = torch.optim.lr_scheduler.MultiStepLR(optimizer, milestones=[218, 245], gamma=0.1,\n",
    "                                                 last_epoch=START_EPOCH - 1)"
   ]
  },
  {
   "cell_type": "code",
   "execution_count": 14,
   "metadata": {},
   "outputs": [
    {
     "name": "stdout",
     "output_type": "stream",
     "text": [
      "Start training with Batch_size: 10, Eopch: 240, Batches: 11727\n"
     ]
    },
    {
     "data": {
      "application/vnd.jupyter.widget-view+json": {
       "model_id": "2915f4d2e5fb44c99629966bf505568e",
       "version_major": 2,
       "version_minor": 0
      },
      "text/plain": [
       "HBox(children=(IntProgress(value=0, max=240), HTML(value='')))"
      ]
     },
     "metadata": {},
     "output_type": "display_data"
    },
    {
     "data": {
      "application/vnd.jupyter.widget-view+json": {
       "model_id": "5f44b7b5c38f4dadafaff00b8b4c91ba",
       "version_major": 2,
       "version_minor": 0
      },
      "text/plain": [
       "HBox(children=(IntProgress(value=0, description='0/239', max=11727, style=ProgressStyle(description_width='ini…"
      ]
     },
     "metadata": {},
     "output_type": "display_data"
    },
    {
     "data": {
      "application/vnd.jupyter.widget-view+json": {
       "model_id": "7e32a09497f442d5b4bf3aff13b929d2",
       "version_major": 2,
       "version_minor": 0
      },
      "text/plain": [
       "HBox(children=(IntProgress(value=0, description='1/239', max=11727, style=ProgressStyle(description_width='ini…"
      ]
     },
     "metadata": {},
     "output_type": "display_data"
    },
    {
     "data": {
      "application/vnd.jupyter.widget-view+json": {
       "model_id": "1e4de1618d9a4f34ab324c8afd36b0e5",
       "version_major": 2,
       "version_minor": 0
      },
      "text/plain": [
       "HBox(children=(IntProgress(value=0, description='2/239', max=11727, style=ProgressStyle(description_width='ini…"
      ]
     },
     "metadata": {},
     "output_type": "display_data"
    },
    {
     "data": {
      "application/vnd.jupyter.widget-view+json": {
       "model_id": "5d31c9ac18974f3d885b7b4f2c58cbfd",
       "version_major": 2,
       "version_minor": 0
      },
      "text/plain": [
       "HBox(children=(IntProgress(value=0, description='3/239', max=11727, style=ProgressStyle(description_width='ini…"
      ]
     },
     "metadata": {},
     "output_type": "display_data"
    },
    {
     "data": {
      "application/vnd.jupyter.widget-view+json": {
       "model_id": "8d5070d2d5224bb887379e4dde2bafc9",
       "version_major": 2,
       "version_minor": 0
      },
      "text/plain": [
       "HBox(children=(IntProgress(value=0, description='4/239', max=11727, style=ProgressStyle(description_width='ini…"
      ]
     },
     "metadata": {},
     "output_type": "display_data"
    },
    {
     "data": {
      "application/vnd.jupyter.widget-view+json": {
       "model_id": "9d97794541174cdd92fb4f953f67fd77",
       "version_major": 2,
       "version_minor": 0
      },
      "text/plain": [
       "HBox(children=(IntProgress(value=0, description='5/239', max=11727, style=ProgressStyle(description_width='ini…"
      ]
     },
     "metadata": {},
     "output_type": "display_data"
    },
    {
     "data": {
      "application/vnd.jupyter.widget-view+json": {
       "model_id": "60650a64238543b9a461b102b41485a2",
       "version_major": 2,
       "version_minor": 0
      },
      "text/plain": [
       "HBox(children=(IntProgress(value=0, description='6/239', max=11727, style=ProgressStyle(description_width='ini…"
      ]
     },
     "metadata": {},
     "output_type": "display_data"
    },
    {
     "data": {
      "application/vnd.jupyter.widget-view+json": {
       "model_id": "70380dd4a6b641008e409b8240aea92a",
       "version_major": 2,
       "version_minor": 0
      },
      "text/plain": [
       "HBox(children=(IntProgress(value=0, description='7/239', max=11727, style=ProgressStyle(description_width='ini…"
      ]
     },
     "metadata": {},
     "output_type": "display_data"
    },
    {
     "data": {
      "application/vnd.jupyter.widget-view+json": {
       "model_id": "2c3b2da5d94e46b2bc9a7dad21314241",
       "version_major": 2,
       "version_minor": 0
      },
      "text/plain": [
       "HBox(children=(IntProgress(value=0, description='8/239', max=11727, style=ProgressStyle(description_width='ini…"
      ]
     },
     "metadata": {},
     "output_type": "display_data"
    },
    {
     "data": {
      "application/vnd.jupyter.widget-view+json": {
       "model_id": "9889b039cca14f729e52b1da84ea88ec",
       "version_major": 2,
       "version_minor": 0
      },
      "text/plain": [
       "HBox(children=(IntProgress(value=0, description='9/239', max=11727, style=ProgressStyle(description_width='ini…"
      ]
     },
     "metadata": {},
     "output_type": "display_data"
    },
    {
     "data": {
      "application/vnd.jupyter.widget-view+json": {
       "model_id": "066e1b927de447fbb98d0eb5de238534",
       "version_major": 2,
       "version_minor": 0
      },
      "text/plain": [
       "HBox(children=(IntProgress(value=0, description='10/239', max=11727, style=ProgressStyle(description_width='in…"
      ]
     },
     "metadata": {},
     "output_type": "display_data"
    },
    {
     "data": {
      "application/vnd.jupyter.widget-view+json": {
       "model_id": "6a02b8e00d3a4b40a8b19ecd8f321723",
       "version_major": 2,
       "version_minor": 0
      },
      "text/plain": [
       "HBox(children=(IntProgress(value=0, description='11/239', max=11727, style=ProgressStyle(description_width='in…"
      ]
     },
     "metadata": {},
     "output_type": "display_data"
    },
    {
     "data": {
      "application/vnd.jupyter.widget-view+json": {
       "model_id": "7443d47f43a946ffb496ab300b681e1d",
       "version_major": 2,
       "version_minor": 0
      },
      "text/plain": [
       "HBox(children=(IntProgress(value=0, description='12/239', max=11727, style=ProgressStyle(description_width='in…"
      ]
     },
     "metadata": {},
     "output_type": "display_data"
    },
    {
     "data": {
      "application/vnd.jupyter.widget-view+json": {
       "model_id": "af18065a46364d9f87272f2e1dc913b8",
       "version_major": 2,
       "version_minor": 0
      },
      "text/plain": [
       "HBox(children=(IntProgress(value=0, description='13/239', max=11727, style=ProgressStyle(description_width='in…"
      ]
     },
     "metadata": {},
     "output_type": "display_data"
    },
    {
     "data": {
      "application/vnd.jupyter.widget-view+json": {
       "model_id": "4298f11676d14194a67ae428d8542076",
       "version_major": 2,
       "version_minor": 0
      },
      "text/plain": [
       "HBox(children=(IntProgress(value=0, description='14/239', max=11727, style=ProgressStyle(description_width='in…"
      ]
     },
     "metadata": {},
     "output_type": "display_data"
    },
    {
     "ename": "RuntimeError",
     "evalue": "CUDA error: an illegal memory access was encountered",
     "output_type": "error",
     "traceback": [
      "\u001b[1;31m---------------------------------------------------------------------------\u001b[0m",
      "\u001b[1;31mRuntimeError\u001b[0m                              Traceback (most recent call last)",
      "\u001b[1;32m<ipython-input-14-5573f49496b4>\u001b[0m in \u001b[0;36m<module>\u001b[1;34m\u001b[0m\n\u001b[0;32m     49\u001b[0m         s = ('%8s%12s' + '%10.3g' * 7) % (\n\u001b[0;32m     50\u001b[0m             \u001b[1;34m'%g/%g'\u001b[0m \u001b[1;33m%\u001b[0m \u001b[1;33m(\u001b[0m\u001b[0mepoch\u001b[0m\u001b[1;33m,\u001b[0m \u001b[0mEPOCHES\u001b[0m \u001b[1;33m-\u001b[0m \u001b[1;36m1\u001b[0m\u001b[1;33m)\u001b[0m\u001b[1;33m,\u001b[0m\u001b[1;33m\u001b[0m\u001b[1;33m\u001b[0m\u001b[0m\n\u001b[1;32m---> 51\u001b[1;33m             '%g/%g' % (i, nB - 1), *mloss, nt, time.time() - t)\n\u001b[0m\u001b[0;32m     52\u001b[0m \u001b[1;33m\u001b[0m\u001b[0m\n\u001b[0;32m     53\u001b[0m         \u001b[1;32mif\u001b[0m\u001b[1;33m(\u001b[0m\u001b[0mepoch\u001b[0m \u001b[1;33m>\u001b[0m \u001b[1;36m40\u001b[0m\u001b[1;33m)\u001b[0m\u001b[1;33m:\u001b[0m\u001b[1;33m\u001b[0m\u001b[1;33m\u001b[0m\u001b[0m\n",
      "\u001b[1;31mRuntimeError\u001b[0m: CUDA error: an illegal memory access was encountered"
     ]
    }
   ],
   "source": [
    "# Start training\n",
    "t = time.time()\n",
    "nB = len(dataloader) # num of batches\n",
    "n_burnin = min(round(nB / 5 + 1), 1000)\n",
    "accumulate = 1\n",
    "multi_scale = False\n",
    "\n",
    "print('Start training with Batch_size: {}, Eopch: {}, Batches: {}'.format(BATCH_SIZE, EPOCHES, len(dataloader)))\n",
    "for epoch in tnrange(START_EPOCH, EPOCHES):\n",
    "    model.train()\n",
    "    #print(('\\n%8s%12s' + '%10s' * 7) % ('Epoch', 'Batch', 'xy', 'wh', 'conf', 'cls', 'total', 'nTargets', 'time'))\n",
    "\n",
    "    # Update scheduler\n",
    "    scheduler.step()\n",
    "\n",
    "    mloss = torch.zeros(5).to(device) # mean losses\n",
    "    for i, (imgs, targets, _, _) in enumerate(tqdm_notebook(dataloader, desc='{}/{}'.format(epoch,EPOCHES-1))):\n",
    "        imgs = imgs.to(device)\n",
    "        targets = targets.to(device)\n",
    "        nt = len(targets)\n",
    "\n",
    "        # SGD burn-in\n",
    "        if epoch == 0 and i <= n_burnin:\n",
    "            lr = lr0 * (i / n_burnin) ** 4\n",
    "            for x in optimizer.param_groups:\n",
    "                x['lr'] = lr\n",
    "\n",
    "        # Run model\n",
    "        pred = model(imgs)\n",
    "\n",
    "        # Build targets\n",
    "        target_list = build_targets(model, targets)\n",
    "\n",
    "        # Compute loss\n",
    "        loss, loss_items = compute_loss(pred, target_list)\n",
    "\n",
    "        # Compute gradient\n",
    "        loss.backward()\n",
    "\n",
    "        # Accumulate gradient for x batches before optimizing\n",
    "        if (i + 1) % accumulate == 0 or (i + 1) == nB:\n",
    "            optimizer.step()\n",
    "            optimizer.zero_grad()\n",
    "\n",
    "        # Update running mean of tracked metrics\n",
    "        mloss = (mloss * i + loss_items) / (i + 1)\n",
    "        \n",
    "        # Print batch results\n",
    "        s = ('%8s%12s' + '%10.3g' * 7) % (\n",
    "            '%g/%g' % (epoch, EPOCHES - 1),\n",
    "            '%g/%g' % (i, nB - 1), *mloss, nt, time.time() - t)\n",
    "        \n",
    "        if epoch == 0:\n",
    "            TBoard.add_graph(model, (imgs,))\n",
    "        step_num = epoch * len(dataloader) + i\n",
    "        imgs_batch = torchvision.utils.make_grid(imgs, nrow=5)\n",
    "        TBoard.add_image('images', imgs_batch, step_num)\n",
    "        #TBoard.add_graph(cnn, (b_x, ))\n",
    "\n",
    "            \n",
    "\n",
    "    # Calculate mAP\n",
    "    if epoch >= 30:\n",
    "        with torch.no_grad():\n",
    "            results = rtest.test(CFG, DATA_CFG, batch_size=BATCH_SIZE, img_size=IMG_SIZE, model=model, conf_thres=0.1);\n",
    "        \n",
    "        TBoard.add_scalar('gMetrics/train_loss', loss.item(), epoch)\n",
    "        TBoard.add_scalar('gMetrics/P', results[0], epoch)\n",
    "        TBoard.add_scalar('gMetrics/R', results[1], epoch)\n",
    "        TBoard.add_scalar('gMetrics/mAP', results[2], epoch)\n",
    "        TBoard.add_scalar('gMetrics/F1', results[3], epoch)\n",
    "        TBoard.add_scalar('gMetrics/test_loss', results[4], epoch)\n",
    "\n",
    "    # Write epoch results\n",
    "        with open('results.txt', 'a') as file:\n",
    "            file.write(s + '%11.3g' * 5 % results + '\\n')  # P, R, mAP, F1, test_loss\n",
    "\n",
    "        # Update best loss\n",
    "        test_loss = results[4]\n",
    "        if test_loss < best_loss:\n",
    "            best_loss = test_loss\n",
    "        \n",
    "\n",
    "    # Save training results\n",
    "    save = True\n",
    "    if save and epoch >= 30:\n",
    "        # Create checkpoint\n",
    "        chkpt = {'epoch': epoch,\n",
    "                 'best_loss': best_loss,\n",
    "                 'model': model.module.state_dict() if type(\n",
    "                     model) is nn.parallel.DistributedDataParallel else model.state_dict(),\n",
    "                 'optimizer': optimizer.state_dict()}\n",
    "\n",
    "        # Save latest checkpoint\n",
    "        torch.save(chkpt, latest)\n",
    "\n",
    "        # Save best checkpoint\n",
    "        if best_loss == test_loss:\n",
    "            torch.save(chkpt, best)\n",
    "\n",
    "        # Save backup every 10 epochs (optional)\n",
    "        if epoch > 0 and epoch % 10 == 0:\n",
    "            torch.save(chkpt, weights + 'backup%g.pt' % epoch)\n",
    "\n",
    "        # Delete checkpoint\n",
    "        del chkpt\n",
    "TBoard.close()\n",
    "end = time.time()\n",
    "print('Training finished! using time: {}'.format(end - t))"
   ]
  },
  {
   "cell_type": "code",
   "execution_count": null,
   "metadata": {},
   "outputs": [],
   "source": [
    "# check missing labels\n",
    "import os\n",
    "with open('C:/coco/5k.txt', 'r') as f:\n",
    "    data = f.read().splitlines()\n",
    "for d in data:\n",
    "    txt = d.replace('images', 'labels').replace('.jpg','.txt').replace('.png','.txt')\n",
    "    if not os.path.exists(txt):\n",
    "        print(txt)"
   ]
  },
  {
   "cell_type": "code",
   "execution_count": null,
   "metadata": {},
   "outputs": [],
   "source": []
  },
  {
   "cell_type": "code",
   "execution_count": null,
   "metadata": {},
   "outputs": [],
   "source": []
  }
 ],
 "metadata": {
  "kernelspec": {
   "display_name": "Python 3",
   "language": "python",
   "name": "python3"
  },
  "language_info": {
   "codemirror_mode": {
    "name": "ipython",
    "version": 3
   },
   "file_extension": ".py",
   "mimetype": "text/x-python",
   "name": "python",
   "nbconvert_exporter": "python",
   "pygments_lexer": "ipython3",
   "version": "3.6.8"
  }
 },
 "nbformat": 4,
 "nbformat_minor": 2
}

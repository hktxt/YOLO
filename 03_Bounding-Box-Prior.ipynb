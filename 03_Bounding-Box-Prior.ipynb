{
 "cells": [
  {
   "cell_type": "markdown",
   "metadata": {},
   "source": [
    "### COCODataset Bounding-Box-Prior"
   ]
  },
  {
   "cell_type": "code",
   "execution_count": 2,
   "metadata": {},
   "outputs": [],
   "source": [
    "import json\n",
    "from collections import defaultdict\n",
    "import numpy as np"
   ]
  },
  {
   "cell_type": "code",
   "execution_count": 3,
   "metadata": {},
   "outputs": [],
   "source": [
    "annotations = ['E:/yolov3-master/data/annotations/instances_train2014.json','E:/yolov3-master/data/annotations/instances_val2014.json']"
   ]
  },
  {
   "cell_type": "code",
   "execution_count": 4,
   "metadata": {},
   "outputs": [],
   "source": [
    "# get bbox\n",
    "bbx = []\n",
    "for anno in annotations:\n",
    "    with open(anno, encoding='utf-8') as f:\n",
    "        data = f.read()\n",
    "        ad = json.loads(data)\n",
    "    for image in ad['annotations']:\n",
    "        _, _, width, height = image['bbox']\n",
    "        bbx.append([width, height])   "
   ]
  },
  {
   "cell_type": "code",
   "execution_count": 5,
   "metadata": {},
   "outputs": [
    {
     "data": {
      "text/plain": [
       "dict_keys(['info', 'images', 'licenses', 'annotations', 'categories'])"
      ]
     },
     "execution_count": 5,
     "metadata": {},
     "output_type": "execute_result"
    }
   ],
   "source": [
    "ad.keys()"
   ]
  },
  {
   "cell_type": "code",
   "execution_count": 6,
   "metadata": {},
   "outputs": [
    {
     "data": {
      "text/plain": [
       "896782"
      ]
     },
     "execution_count": 6,
     "metadata": {},
     "output_type": "execute_result"
    }
   ],
   "source": [
    "len(bbx)"
   ]
  },
  {
   "cell_type": "code",
   "execution_count": 7,
   "metadata": {},
   "outputs": [
    {
     "data": {
      "text/plain": [
       "[285.3, 266.03]"
      ]
     },
     "execution_count": 7,
     "metadata": {},
     "output_type": "execute_result"
    }
   ],
   "source": [
    "bbx[0]"
   ]
  },
  {
   "cell_type": "code",
   "execution_count": 8,
   "metadata": {},
   "outputs": [],
   "source": [
    "bbx = np.array(bbx).reshape(len(bbx), 2)"
   ]
  },
  {
   "cell_type": "code",
   "execution_count": 9,
   "metadata": {},
   "outputs": [
    {
     "data": {
      "text/plain": [
       "(896782, 2)"
      ]
     },
     "execution_count": 9,
     "metadata": {},
     "output_type": "execute_result"
    }
   ],
   "source": [
    "bbx.shape"
   ]
  },
  {
   "cell_type": "code",
   "execution_count": 9,
   "metadata": {},
   "outputs": [],
   "source": [
    "def kmeans(boxes, k, dist=np.median):\n",
    "    \"\"\"\n",
    "    Calculates k-means clustering with the Intersection over Union (IoU) metric.\n",
    "    param:\n",
    "        boxes: numpy array of shape (r, 2), where r is the number of rows\n",
    "        k: number of clusters\n",
    "        dist: distance function\n",
    "    return:\n",
    "        numpy array of shape (k, 2)\n",
    "    \"\"\"\n",
    "    rows = boxes.shape[0]\n",
    "\n",
    "    distances = np.empty((rows, k))\n",
    "    last_clusters = np.zeros((rows,))\n",
    "\n",
    "    np.random.seed()\n",
    "\n",
    "    # the Forgy method will fail if the whole array contains the same rows\n",
    "    clusters = boxes[np.random.choice(rows, k, replace=False)]  # 9*2, random pick k clusters\n",
    "\n",
    "    while True:\n",
    "        for row in range(rows):\n",
    "            distances[row] = 1 - iou(boxes[row], clusters)\n",
    "\n",
    "        nearest_clusters = np.argmin(distances, axis=1)\n",
    "\n",
    "        if (last_clusters == nearest_clusters).all():\n",
    "            break\n",
    "\n",
    "        for cluster in range(k):\n",
    "            clusters[cluster] = dist(boxes[nearest_clusters == cluster], axis=0)\n",
    "\n",
    "        last_clusters = nearest_clusters\n",
    "\n",
    "    return clusters"
   ]
  },
  {
   "cell_type": "code",
   "execution_count": null,
   "metadata": {},
   "outputs": [],
   "source": [
    "def avg_iou(boxes, clusters):\n",
    "    \"\"\"\n",
    "    Calculates the average Intersection over Union (IoU) between a numpy array of boxes and k clusters.\n",
    "    param:\n",
    "        boxes: numpy array of shape (r, 2), where r is the number of rows\n",
    "        clusters: numpy array of shape (k, 2) where k is the number of clusters\n",
    "    return:\n",
    "        average IoU as a single float\n",
    "    \"\"\"\n",
    "    return np.mean([np.max(iou(boxes[i], clusters)) for i in range(boxes.shape[0])])"
   ]
  },
  {
   "cell_type": "code",
   "execution_count": 14,
   "metadata": {},
   "outputs": [],
   "source": [
    "def iou(box, clusters):\n",
    "    \"\"\"\n",
    "    Calculates the Intersection over Union (IoU) between a box and k clusters.\n",
    "    param:\n",
    "        box: tuple or array, shifted to the origin (i. e. width and height)\n",
    "        clusters: numpy array of shape (k, 2) where k is the number of clusters\n",
    "    return:\n",
    "        numpy array of shape (k, 0) where k is the number of clusters\n",
    "    \"\"\"\n",
    "    x = np.minimum(clusters[:, 0], box[0])\n",
    "    y = np.minimum(clusters[:, 1], box[1])\n",
    "    \n",
    "    if np.count_nonzero(x == 0) > 0 or np.count_nonzero(y == 0) > 0:\n",
    "        raise ValueError(\"Box has no area\")\n",
    "\n",
    "    intersection = x * y\n",
    "    box_area = box[0] * box[1]\n",
    "    cluster_area = clusters[:, 0] * clusters[:, 1]\n",
    "\n",
    "    iou_ = intersection / (box_area + cluster_area - intersection + 1e-10)\n",
    "\n",
    "    return iou_"
   ]
  },
  {
   "cell_type": "code",
   "execution_count": null,
   "metadata": {},
   "outputs": [],
   "source": [
    "def get_kmeans(anno, cluster_num=9):\n",
    "\n",
    "    anchors = kmeans(anno, cluster_num)\n",
    "    ave_iou = avg_iou(anno, anchors)\n",
    "\n",
    "    anchors = anchors.astype('int').tolist()\n",
    "\n",
    "    anchors = sorted(anchors, key=lambda x: x[0] * x[1])\n",
    "\n",
    "    return anchors, ave_iou"
   ]
  },
  {
   "cell_type": "code",
   "execution_count": null,
   "metadata": {
    "scrolled": false
   },
   "outputs": [
    {
     "name": "stdout",
     "output_type": "stream",
     "text": [
      "> <ipython-input-14-ad5d699d297d>(14)iou()\n",
      "-> if np.count_nonzero(x == 0) > 0 or np.count_nonzero(y == 0) > 0:\n",
      "(Pdb) x\n",
      "array([240.  ,  94.59, 141.83,  22.52,  56.31, 285.3 ,  46.25,  80.  ,\n",
      "       162.96])\n",
      "(Pdb) y\n",
      "array([ 73.71, 127.01,  77.48,  50.84,  41.63, 266.03, 110.6 ,  78.92,\n",
      "       266.03])\n",
      "(Pdb) c\n",
      "> <ipython-input-14-ad5d699d297d>(14)iou()\n",
      "-> if np.count_nonzero(x == 0) > 0 or np.count_nonzero(y == 0) > 0:\n",
      "(Pdb) c\n",
      "> <ipython-input-14-ad5d699d297d>(14)iou()\n",
      "-> if np.count_nonzero(x == 0) > 0 or np.count_nonzero(y == 0) > 0:\n",
      "(Pdb) c\n",
      "> <ipython-input-14-ad5d699d297d>(14)iou()\n",
      "-> if np.count_nonzero(x == 0) > 0 or np.count_nonzero(y == 0) > 0:\n",
      "(Pdb) c\n",
      "> <ipython-input-14-ad5d699d297d>(14)iou()\n",
      "-> if np.count_nonzero(x == 0) > 0 or np.count_nonzero(y == 0) > 0:\n",
      "(Pdb) \n"
     ]
    }
   ],
   "source": [
    "anchors, ave_iou = get_kmeans(bbx, 9)"
   ]
  },
  {
   "cell_type": "code",
   "execution_count": null,
   "metadata": {},
   "outputs": [],
   "source": []
  }
 ],
 "metadata": {
  "kernelspec": {
   "display_name": "Python 3",
   "language": "python",
   "name": "python3"
  },
  "language_info": {
   "codemirror_mode": {
    "name": "ipython",
    "version": 3
   },
   "file_extension": ".py",
   "mimetype": "text/x-python",
   "name": "python",
   "nbconvert_exporter": "python",
   "pygments_lexer": "ipython3",
   "version": "3.7.1"
  },
  "varInspector": {
   "cols": {
    "lenName": 16,
    "lenType": 16,
    "lenVar": 40
   },
   "kernels_config": {
    "python": {
     "delete_cmd_postfix": "",
     "delete_cmd_prefix": "del ",
     "library": "var_list.py",
     "varRefreshCmd": "print(var_dic_list())"
    },
    "r": {
     "delete_cmd_postfix": ") ",
     "delete_cmd_prefix": "rm(",
     "library": "var_list.r",
     "varRefreshCmd": "cat(var_dic_list()) "
    }
   },
   "position": {
    "height": "784px",
    "left": "1520px",
    "right": "20px",
    "top": "109px",
    "width": "385px"
   },
   "types_to_exclude": [
    "module",
    "function",
    "builtin_function_or_method",
    "instance",
    "_Feature"
   ],
   "window_display": true
  }
 },
 "nbformat": 4,
 "nbformat_minor": 2
}

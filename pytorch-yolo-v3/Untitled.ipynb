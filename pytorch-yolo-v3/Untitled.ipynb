{
 "cells": [
  {
   "cell_type": "code",
   "execution_count": 2,
   "metadata": {},
   "outputs": [
    {
     "name": "stdout",
     "output_type": "stream",
     "text": [
      "Loading network.....\n",
      "Network successfully loaded\n"
     ]
    },
    {
     "name": "stderr",
     "output_type": "stream",
     "text": [
      "C:\\Users\\Max\\Anaconda3\\envs\\Pytorch\\lib\\site-packages\\torch\\nn\\modules\\upsampling.py:122: UserWarning: nn.Upsampling is deprecated. Use nn.functional.interpolate instead.\n",
      "  warnings.warn(\"nn.Upsampling is deprecated. Use nn.functional.interpolate instead.\")\n"
     ]
    },
    {
     "name": "stdout",
     "output_type": "stream",
     "text": [
      "E:\\condaDev\\pytorch-yolo-v3-master\\imgs\\dog.jpg predicted in  1.554 seconds\n",
      "Objects Detected:    bicycle truck dog\n",
      "----------------------------------------------------------\n",
      "E:\\condaDev\\pytorch-yolo-v3-master\\imgs\\eagle.jpg predicted in  1.529 seconds\n",
      "Objects Detected:    bird\n",
      "----------------------------------------------------------\n",
      "E:\\condaDev\\pytorch-yolo-v3-master\\imgs\\giraffe.jpg predicted in  1.487 seconds\n",
      "Objects Detected:    zebra giraffe giraffe\n",
      "----------------------------------------------------------\n",
      "E:\\condaDev\\pytorch-yolo-v3-master\\imgs\\herd_of_horses.jpg predicted in  1.492 seconds\n",
      "Objects Detected:    horse horse horse horse\n",
      "----------------------------------------------------------\n",
      "E:\\condaDev\\pytorch-yolo-v3-master\\imgs\\img1.jpg predicted in  1.496 seconds\n",
      "Objects Detected:    person dog\n",
      "----------------------------------------------------------\n",
      "E:\\condaDev\\pytorch-yolo-v3-master\\imgs\\img2.jpg predicted in  1.475 seconds\n",
      "Objects Detected:    train\n",
      "----------------------------------------------------------\n",
      "E:\\condaDev\\pytorch-yolo-v3-master\\imgs\\img3.jpg predicted in  1.472 seconds\n",
      "Objects Detected:    car car car car car car car truck traffic light\n",
      "----------------------------------------------------------\n",
      "E:\\condaDev\\pytorch-yolo-v3-master\\imgs\\img4.jpg predicted in  1.516 seconds\n",
      "Objects Detected:    chair chair chair clock\n",
      "----------------------------------------------------------\n",
      "E:\\condaDev\\pytorch-yolo-v3-master\\imgs\\messi.jpg predicted in  1.444 seconds\n",
      "Objects Detected:    person person person sports ball\n",
      "----------------------------------------------------------\n",
      "E:\\condaDev\\pytorch-yolo-v3-master\\imgs\\person.jpg predicted in  1.475 seconds\n",
      "Objects Detected:    person dog horse\n",
      "----------------------------------------------------------\n",
      "\n",
      "SUMMARY\n",
      "----------------------------------------------------------\n",
      "Task                     : Time Taken (in seconds)\n",
      "\n",
      "Reading addresses        : 0.000\n",
      "Loading batch            : 1.654\n",
      "Detection (11 images)    : 16.455\n",
      "Output Processing        : 0.000\n",
      "Drawing Boxes            : 0.160\n",
      "Average time_per_img     : 1.661\n",
      "----------------------------------------------------------\n"
     ]
    }
   ],
   "source": [
    "%run detect.py --images imgs --det det"
   ]
  },
  {
   "cell_type": "code",
   "execution_count": null,
   "metadata": {},
   "outputs": [],
   "source": []
  }
 ],
 "metadata": {
  "kernelspec": {
   "display_name": "Python 3",
   "language": "python",
   "name": "python3"
  },
  "language_info": {
   "codemirror_mode": {
    "name": "ipython",
    "version": 3
   },
   "file_extension": ".py",
   "mimetype": "text/x-python",
   "name": "python",
   "nbconvert_exporter": "python",
   "pygments_lexer": "ipython3",
   "version": "3.6.6"
  }
 },
 "nbformat": 4,
 "nbformat_minor": 2
}

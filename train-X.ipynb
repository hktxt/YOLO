{
 "cells": [
  {
   "cell_type": "markdown",
   "metadata": {},
   "source": [
    "# train"
   ]
  },
  {
   "cell_type": "code",
   "execution_count": 1,
   "metadata": {},
   "outputs": [],
   "source": [
    "from torch.utils.data import DataLoader\n",
    "import torch.nn as nn\n",
    "from utils.datasets import LoadDataset\n",
    "from utils import torch_utils\n",
    "import time\n",
    "import rtest\n",
    "from tqdm import tqdm\n",
    "from models import *\n",
    "import os\n",
    "import tensorboardX"
   ]
  },
  {
   "cell_type": "code",
   "execution_count": 2,
   "metadata": {},
   "outputs": [
    {
     "name": "stdout",
     "output_type": "stream",
     "text": [
      "Using CPU\n"
     ]
    }
   ],
   "source": [
    "# specify visible GPU\n",
    "os.environ[\"CUDA_VISIBLE_DEVICES\"] = '0'\n",
    "device = torch_utils.select_device()"
   ]
  },
  {
   "cell_type": "code",
   "execution_count": 3,
   "metadata": {},
   "outputs": [],
   "source": [
    "IMG_SIZE = 416\n",
    "EPOCHES = 270\n",
    "BATCH_SIZE = 1\n",
    "START_EPOCH = 0\n",
    "CFG = 'cfg/yolov3-tiny.cfg'\n",
    "DATA_CFG = 'cfg/coco-c.data'\n",
    "NUM_WORKERS = 5\n",
    "FREEZE_BACKBONE = False\n",
    "FROM_SCRATCH = True\n",
    "\n",
    "LOG_PATH = 'E:/condaDev/YOLOv3/logs/'\n",
    "weights = 'E:/condaDev/YOLOv3/logs/'\n",
    "latest = os.path.join(weights, 'latest.pt')\n",
    "best = os.path.join(weights, 'best.pt')"
   ]
  },
  {
   "cell_type": "code",
   "execution_count": 4,
   "metadata": {},
   "outputs": [
    {
     "data": {
      "text/plain": [
       "'E:/data/coco/trainvalno5k.txt'"
      ]
     },
     "execution_count": 4,
     "metadata": {},
     "output_type": "execute_result"
    }
   ],
   "source": [
    "train_path = parse_data_cfg(DATA_CFG)['train'];train_path"
   ]
  },
  {
   "cell_type": "code",
   "execution_count": 5,
   "metadata": {},
   "outputs": [],
   "source": [
    "# Dataset\n",
    "dataset = LoadDataset(train_path, img_size=IMG_SIZE)"
   ]
  },
  {
   "cell_type": "code",
   "execution_count": 6,
   "metadata": {},
   "outputs": [],
   "source": [
    "# model\n",
    "model = Darknet(CFG, IMG_SIZE).to(device)"
   ]
  },
  {
   "cell_type": "code",
   "execution_count": 7,
   "metadata": {},
   "outputs": [],
   "source": [
    "# Dataloader\n",
    "dataloader = DataLoader(dataset, batch_size=BATCH_SIZE, num_workers=NUM_WORKERS, shuffle=False, pin_memory=True, collate_fn=dataset.collate_fn)"
   ]
  },
  {
   "cell_type": "code",
   "execution_count": 9,
   "metadata": {},
   "outputs": [],
   "source": [
    "# check Dataloader\n",
    "for i, (imgs, targets, _, _) in enumerate(dataloader):\n",
    "    #print(targets.shape)\n",
    "    plot_images(imgs=imgs, targets=targets, fname='train_batch0.jpg')\n",
    "    if i == 0:\n",
    "        break"
   ]
  },
  {
   "cell_type": "code",
   "execution_count": 8,
   "metadata": {},
   "outputs": [],
   "source": [
    "cutoff = -1  # backbone reaches to cutoff layer\n",
    "START_EPOCH = 0\n",
    "best_loss = float('inf')\n",
    "\n",
    "if not FROM_SCRATCH:\n",
    "    if '-tiny.cfg' in CFG:\n",
    "        cutoff = load_darknet_weights(model, weights + 'yolov3-tiny.conv.15')\n",
    "    else:\n",
    "        cutoff = load_darknet_weights(model, weights + 'darknet53.conv.74')"
   ]
  },
  {
   "cell_type": "code",
   "execution_count": 9,
   "metadata": {},
   "outputs": [],
   "source": [
    "if torch.cuda.device_count() > 1:\n",
    "    print(\"Let's use\", torch.cuda.device_count(), \"GPUs!\")\n",
    "    model = nn.DataParallel(model)\n",
    "model.to(device);"
   ]
  },
  {
   "cell_type": "code",
   "execution_count": 10,
   "metadata": {},
   "outputs": [
    {
     "name": "stdout",
     "output_type": "stream",
     "text": [
      "\n",
      "layer                                     name  gradient   parameters                shape         mu      sigma\n",
      "    0                          0.conv_0.weight      True          432        [16, 3, 3, 3]   -0.00865       0.11\n",
      "    1                    0.batch_norm_0.weight      True           16                 [16]      0.406      0.226\n",
      "    2                      0.batch_norm_0.bias      True           16                 [16]          0          0\n",
      "    3                          2.conv_2.weight      True         4608       [32, 16, 3, 3]  -5.83e-05     0.0478\n",
      "    4                    2.batch_norm_2.weight      True           32                 [32]      0.517      0.311\n",
      "    5                      2.batch_norm_2.bias      True           32                 [32]          0          0\n",
      "    6                          4.conv_4.weight      True        18432       [64, 32, 3, 3]   0.000297     0.0341\n",
      "    7                    4.batch_norm_4.weight      True           64                 [64]      0.458      0.287\n",
      "    8                      4.batch_norm_4.bias      True           64                 [64]          0          0\n",
      "    9                          6.conv_6.weight      True        73728      [128, 64, 3, 3]   -0.00013      0.024\n",
      "   10                    6.batch_norm_6.weight      True          128                [128]      0.496        0.3\n",
      "   11                      6.batch_norm_6.bias      True          128                [128]          0          0\n",
      "   12                          8.conv_8.weight      True       294912     [256, 128, 3, 3]  -4.07e-07      0.017\n",
      "   13                    8.batch_norm_8.weight      True          256                [256]      0.494      0.294\n",
      "   14                      8.batch_norm_8.bias      True          256                [256]          0          0\n",
      "   15                        10.conv_10.weight      True  1.17965e+06     [512, 256, 3, 3]   4.07e-07      0.012\n",
      "   16                  10.batch_norm_10.weight      True          512                [512]      0.517      0.287\n",
      "   17                    10.batch_norm_10.bias      True          512                [512]          0          0\n",
      "   18                        12.conv_12.weight      True  4.71859e+06    [1024, 512, 3, 3]   -1.2e-06     0.0085\n",
      "   19                  12.batch_norm_12.weight      True         1024               [1024]      0.498      0.283\n",
      "   20                    12.batch_norm_12.bias      True         1024               [1024]          0          0\n",
      "   21                        13.conv_13.weight      True       262144    [256, 1024, 1, 1]  -1.65e-05      0.018\n",
      "   22                  13.batch_norm_13.weight      True          256                [256]       0.51      0.286\n",
      "   23                    13.batch_norm_13.bias      True          256                [256]          0          0\n",
      "   24                        14.conv_14.weight      True  1.17965e+06     [512, 256, 3, 3]   2.23e-06      0.012\n",
      "   25                  14.batch_norm_14.weight      True          512                [512]      0.497      0.295\n",
      "   26                    14.batch_norm_14.bias      True          512                [512]          0          0\n",
      "   27                        15.conv_15.weight      True       130560     [255, 512, 1, 1]  -2.73e-05     0.0256\n",
      "   28                          15.conv_15.bias      True          255                [255]  -0.000308     0.0252\n",
      "   29                        18.conv_18.weight      True        32768     [128, 256, 1, 1]  -0.000254      0.036\n",
      "   30                  18.batch_norm_18.weight      True          128                [128]       0.45      0.297\n",
      "   31                    18.batch_norm_18.bias      True          128                [128]          0          0\n",
      "   32                        21.conv_21.weight      True       884736     [256, 384, 3, 3]   4.63e-06    0.00983\n",
      "   33                  21.batch_norm_21.weight      True          256                [256]      0.523      0.294\n",
      "   34                    21.batch_norm_21.bias      True          256                [256]          0          0\n",
      "   35                        22.conv_22.weight      True        65280     [255, 256, 1, 1]   0.000219     0.0361\n",
      "   36                          22.conv_22.bias      True          255                [255]    0.00213     0.0361\n",
      "Model Summary: 37 layers, 8.85237e+06 parameters, 8.85237e+06 gradients\n"
     ]
    }
   ],
   "source": [
    "model_info(model)"
   ]
  },
  {
   "cell_type": "code",
   "execution_count": 11,
   "metadata": {},
   "outputs": [],
   "source": [
    "# Optimizer\n",
    "lr0 = 0.001  # initial learning rate\n",
    "optimizer = torch.optim.SGD(model.parameters(), lr=lr0, momentum=0.9, weight_decay=0.0005)\n",
    "\n",
    "# Scheduler (reduce lr at epochs 218, 245, i.e. batches 400k, 450k)\n",
    "scheduler = torch.optim.lr_scheduler.MultiStepLR(optimizer, milestones=[218, 245], gamma=0.1,\n",
    "                                                 last_epoch=START_EPOCH - 1)"
   ]
  },
  {
   "cell_type": "code",
   "execution_count": null,
   "metadata": {},
   "outputs": [],
   "source": [
    "# Start training\n",
    "t = time.time()\n",
    "nB = len(dataloader) # num of batches\n",
    "n_burnin = min(round(nB / 5 + 1), 1000)\n",
    "accumulate = 1\n",
    "multi_scale = False\n",
    "TBoard = tensorboardX.SummaryWriter(log_dir=LOG_PATH)\n",
    "\n",
    "print('Start training with Batch_size: {}, Eopch: {}, Batches: {}'.format(BATCH_SIZE, EPOCHES, len(dataloader)))\n",
    "for epoch in range(START_EPOCH, EPOCHES):\n",
    "    model.train()\n",
    "    #print(('\\n%8s%12s' + '%10s' * 7) % ('Epoch', 'Batch', 'xy', 'wh', 'conf', 'cls', 'total', 'nTargets', 'time'))\n",
    "\n",
    "    # Update scheduler\n",
    "    scheduler.step()\n",
    "\n",
    "    mloss = torch.zeros(5).to(device) # mean losses\n",
    "    for i, (imgs, targets, _, _) in tqdm(enumerate(dataloader), desc='{}/{}'.format(epoch,EPOCHES-1)):\n",
    "        imgs = imgs.to(device)\n",
    "        targets = targets.to(device)\n",
    "        nt = len(targets)\n",
    "\n",
    "        # SGD burn-in\n",
    "        if epoch == 0 and i <= n_burnin:\n",
    "            lr = lr0 * (i / n_burnin) ** 4\n",
    "            for x in optimizer.param_groups:\n",
    "                x['lr'] = lr\n",
    "\n",
    "        # Run model\n",
    "        pred = model(imgs)\n",
    "\n",
    "        # Build targets\n",
    "        target_list = build_targets(model, targets)\n",
    "\n",
    "        # Compute loss\n",
    "        loss, loss_items = compute_loss(pred, target_list)\n",
    "        \n",
    "        break\n",
    "\n",
    "        # Compute gradient\n",
    "        loss.backward()\n",
    "\n",
    "        # Accumulate gradient for x batches before optimizing\n",
    "        if (i + 1) % accumulate == 0 or (i + 1) == nB:\n",
    "            optimizer.step()\n",
    "            optimizer.zero_grad()\n",
    "\n",
    "        # Update running mean of tracked metrics\n",
    "        mloss = (mloss * i + loss_items) / (i + 1)\n",
    "\n",
    "    # Calculate mAP\n",
    "    with torch.no_grad():\n",
    "        results = rtest.test(CFG, DATA_CFG, batch_size=BATCH_SIZE, img_size=IMG_SIZE, model=model, conf_thres=0.1);\n",
    "\n",
    "    # Write epoch results\n",
    "    with open('results.txt', 'a') as file:\n",
    "        file.write(s + '%11.3g' * 5 % results + '\\n')  # P, R, mAP, F1, test_loss\n",
    "\n",
    "    # Update best loss\n",
    "    test_loss = results[4]\n",
    "    if test_loss < best_loss:\n",
    "        best_loss = test_loss\n",
    "        \n",
    "        TBoard.add_scalar('gMetrics/train_loss', loss.item(), epoch)\n",
    "        TBoard.add_scalar('gMetrics/P', results[0], epoch)\n",
    "        TBoard.add_scalar('gMetrics/R', results[1], epoch)\n",
    "        TBoard.add_scalar('gMetrics/mAP', results[2], epoch)\n",
    "        TBoard.add_scalar('gMetrics/F1', results[3], epoch)\n",
    "        TBoard.add_scalar('gMetrics/test_loss', results[4], epoch)\n",
    "        \n",
    "\n",
    "    # Save training results\n",
    "    save = True\n",
    "    if save:\n",
    "        # Create checkpoint\n",
    "        chkpt = {'epoch': epoch,\n",
    "                 'best_loss': best_loss,\n",
    "                 'model': model.module.state_dict() if type(\n",
    "                     model) is nn.parallel.DistributedDataParallel else model.state_dict(),\n",
    "                 'optimizer': optimizer.state_dict()}\n",
    "\n",
    "        # Save latest checkpoint\n",
    "        torch.save(chkpt, latest)\n",
    "\n",
    "        # Save best checkpoint\n",
    "        if best_loss == test_loss:\n",
    "            torch.save(chkpt, best)\n",
    "\n",
    "        # Save backup every 10 epochs (optional)\n",
    "        if epoch > 0 and epoch % 10 == 0:\n",
    "            torch.save(chkpt, weights + 'backup%g.pt' % epoch)\n",
    "\n",
    "        # Delete checkpoint\n",
    "        del chkpt\n",
    "end = time.time()\n",
    "print('Training finished! using time: {}'.format(end - t))"
   ]
  },
  {
   "cell_type": "code",
   "execution_count": 14,
   "metadata": {},
   "outputs": [
    {
     "data": {
      "text/plain": [
       "torch.Size([8, 6])"
      ]
     },
     "execution_count": 14,
     "metadata": {},
     "output_type": "execute_result"
    }
   ],
   "source": [
    "targets.shape"
   ]
  },
  {
   "cell_type": "code",
   "execution_count": 19,
   "metadata": {},
   "outputs": [
    {
     "data": {
      "text/plain": [
       "2"
      ]
     },
     "execution_count": 19,
     "metadata": {},
     "output_type": "execute_result"
    }
   ],
   "source": [
    "len(pred)"
   ]
  },
  {
   "cell_type": "code",
   "execution_count": 21,
   "metadata": {},
   "outputs": [
    {
     "data": {
      "text/plain": [
       "torch.Size([1, 3, 13, 13, 85])"
      ]
     },
     "execution_count": 21,
     "metadata": {},
     "output_type": "execute_result"
    }
   ],
   "source": [
    "pred[0].shape"
   ]
  },
  {
   "cell_type": "code",
   "execution_count": 22,
   "metadata": {},
   "outputs": [
    {
     "data": {
      "text/plain": [
       "torch.Size([1, 3, 26, 26, 85])"
      ]
     },
     "execution_count": 22,
     "metadata": {},
     "output_type": "execute_result"
    }
   ],
   "source": [
    "pred[1].shape"
   ]
  },
  {
   "cell_type": "code",
   "execution_count": 16,
   "metadata": {},
   "outputs": [
    {
     "data": {
      "text/plain": [
       "([tensor([[0.2334, 0.3405],\n",
       "          [0.5747, 0.0351],\n",
       "          [0.2818, 0.7711],\n",
       "          [0.4127, 0.7092],\n",
       "          [0.4089, 0.9174],\n",
       "          [0.0509, 0.8906],\n",
       "          [0.6879, 0.8373],\n",
       "          [0.3572, 0.3974]]), tensor([[0.8177, 0.8348],\n",
       "          [0.1018, 0.7811],\n",
       "          [0.3757, 0.6747],\n",
       "          [0.7143, 0.7948]])], [tensor([[ 0.1446, -0.5405],\n",
       "          [ 0.4300, -0.1284],\n",
       "          [ 0.4204, -0.0591],\n",
       "          [-0.1973, -0.2687],\n",
       "          [-0.5004, -0.9974],\n",
       "          [-0.7636, -0.9944],\n",
       "          [-0.3942, -0.5817],\n",
       "          [-0.2739, -0.5738]]), tensor([[ 0.2831, -0.6511],\n",
       "          [ 0.4954,  0.1165],\n",
       "          [ 0.3894, -0.2355],\n",
       "          [ 0.5096, -0.2276]])], [tensor([45, 45, 50, 45, 49, 49, 49, 49]),\n",
       "  tensor([49, 49, 49, 49])], [(tensor([0, 0, 0, 0, 0, 0, 0, 0]),\n",
       "   tensor([2, 1, 1, 2, 0, 0, 0, 0]),\n",
       "   tensor([8, 4, 8, 5, 2, 2, 3, 2]),\n",
       "   tensor([ 6,  9,  8,  4,  8, 10,  8,  8])),\n",
       "  (tensor([0, 0, 0, 0]),\n",
       "   tensor([2, 1, 2, 2]),\n",
       "   tensor([5, 5, 7, 4]),\n",
       "   tensor([16, 20, 17, 16]))])"
      ]
     },
     "execution_count": 16,
     "metadata": {},
     "output_type": "execute_result"
    }
   ],
   "source": [
    "target_list"
   ]
  },
  {
   "cell_type": "code",
   "execution_count": null,
   "metadata": {},
   "outputs": [],
   "source": []
  }
 ],
 "metadata": {
  "kernelspec": {
   "display_name": "Python 3",
   "language": "python",
   "name": "python3"
  },
  "language_info": {
   "codemirror_mode": {
    "name": "ipython",
    "version": 3
   },
   "file_extension": ".py",
   "mimetype": "text/x-python",
   "name": "python",
   "nbconvert_exporter": "python",
   "pygments_lexer": "ipython3",
   "version": "3.6.7"
  }
 },
 "nbformat": 4,
 "nbformat_minor": 2
}

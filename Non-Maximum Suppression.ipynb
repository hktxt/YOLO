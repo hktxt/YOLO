{
 "cells": [
  {
   "cell_type": "markdown",
   "metadata": {},
   "source": [
    "# Non-Maximum Suppression"
   ]
  },
  {
   "cell_type": "code",
   "execution_count": null,
   "metadata": {},
   "outputs": [],
   "source": [
    "import numpy as np  \n",
    "  \n",
    "def py_cpu_nms(dets, thresh):  \n",
    "    \"\"\"Pure Python NMS baseline.\"\"\"  \n",
    "    x1 = dets[:, 0]  \n",
    "    y1 = dets[:, 1]  \n",
    "    x2 = dets[:, 2]  \n",
    "    y2 = dets[:, 3]  \n",
    "    scores = dets[:, 4]  #bbox打分\n",
    "  \n",
    "    areas = (x2 - x1 + 1) * (y2 - y1 + 1)  \n",
    "    #打分从大到小排列，取index  \n",
    "    order = scores.argsort()[::-1]  \n",
    "    #keep为最后保留的边框  \n",
    "    keep = []  \n",
    "    while order.size > 0:  \n",
    "        #order[0]是当前分数最大的窗口，肯定保留  \n",
    "        i = order[0]  \n",
    "        keep.append(i)  \n",
    "        #计算窗口i与其他所有窗口的交叠部分的面积\n",
    "        xx1 = np.maximum(x1[i], x1[order[1:]])  \n",
    "        yy1 = np.maximum(y1[i], y1[order[1:]])  \n",
    "        xx2 = np.minimum(x2[i], x2[order[1:]])  \n",
    "        yy2 = np.minimum(y2[i], y2[order[1:]])  \n",
    "  \n",
    "        w = np.maximum(0.0, xx2 - xx1 + 1)  \n",
    "        h = np.maximum(0.0, yy2 - yy1 + 1)  \n",
    "        inter = w * h  \n",
    "        #交/并得到iou值  \n",
    "        ovr = inter / (areas[i] + areas[order[1:]] - inter)  \n",
    "        #inds为所有与窗口i的iou值小于threshold值的窗口的index，其他窗口此次都被窗口i吸收  \n",
    "        inds = np.where(ovr <= thresh)[0]  \n",
    "        #order里面只保留与窗口i交叠面积小于threshold的那些窗口，由于ovr长度比order长度少1(不包含i)，所以inds+1对应到保留的窗口\n",
    "        order = order[inds + 1]  \n",
    "  \n",
    "    return keep"
   ]
  }
 ],
 "metadata": {
  "kernelspec": {
   "display_name": "Python 3",
   "language": "python",
   "name": "python3"
  },
  "language_info": {
   "codemirror_mode": {
    "name": "ipython",
    "version": 3
   },
   "file_extension": ".py",
   "mimetype": "text/x-python",
   "name": "python",
   "nbconvert_exporter": "python",
   "pygments_lexer": "ipython3",
   "version": "3.6.6"
  }
 },
 "nbformat": 4,
 "nbformat_minor": 2
}

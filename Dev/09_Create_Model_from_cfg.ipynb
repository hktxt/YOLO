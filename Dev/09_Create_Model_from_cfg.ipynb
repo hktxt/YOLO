{
 "cells": [
  {
   "cell_type": "markdown",
   "metadata": {
    "colab_type": "text",
    "id": "ZVEZwnqlMhI5"
   },
   "source": [
    "### Create model from cfg file."
   ]
  },
  {
   "cell_type": "code",
   "execution_count": null,
   "metadata": {
    "colab": {
     "base_uri": "https://localhost:8080/",
     "height": 34
    },
    "colab_type": "code",
    "id": "yM-ANBn19j4o",
    "outputId": "30ebcd90-17f5-4c01-b189-5754934ce656"
   },
   "outputs": [
    {
     "data": {
      "text/plain": [
       "'yolov3.cfg'"
      ]
     },
     "execution_count": 6,
     "metadata": {
      "tags": []
     },
     "output_type": "execute_result"
    }
   ],
   "source": [
    "cfg = 'yolov3.cfg';cfg"
   ]
  },
  {
   "cell_type": "code",
   "execution_count": 4,
   "metadata": {
    "colab": {},
    "colab_type": "code",
    "id": "Z9VWocl4-YqL"
   },
   "outputs": [],
   "source": [
    "def parse_model_cfg(path):\n",
    "  \n",
    "    \"\"\"Parses the yolo-v3 layer configuration file and returns module definitions\"\"\"\n",
    "    with open(path, 'r') as f:\n",
    "        lines = f.read().split('\\n')\n",
    "    lines = [x for x in lines if x and not x.startswith('#')]\n",
    "    lines = [x.rstrip().lstrip() for x in lines]\n",
    "    module_defs = []\n",
    "  \n",
    "    for line in lines:\n",
    "        if line.startswith('['):# This marks the start of a new block\n",
    "            module_defs.append({})\n",
    "            module_defs[-1]['type'] = line[1:-1].rstrip() # get rid of []\n",
    "            if module_defs[-1]['type'] == 'convolutional':\n",
    "                module_defs[-1]['batch_normalize'] = 0 # yolo layer: no batch_normalize\n",
    "      \n",
    "        else:\n",
    "            key, value = line.split(\"=\")\n",
    "            value = value.strip()\n",
    "            module_defs[-1][key.rstrip()] = value.strip()\n",
    "      \n",
    "    return module_defs"
   ]
  },
  {
   "cell_type": "code",
   "execution_count": null,
   "metadata": {
    "colab": {},
    "colab_type": "code",
    "id": "D96HsWZcgrlu"
   },
   "outputs": [],
   "source": [
    "module_defs = parse_model_cfg(cfg)"
   ]
  },
  {
   "cell_type": "code",
   "execution_count": null,
   "metadata": {
    "colab": {
     "base_uri": "https://localhost:8080/",
     "height": 68
    },
    "colab_type": "code",
    "id": "LfVTgipSHSoj",
    "outputId": "c31f9215-f873-4a74-abcf-b7d6bfbc716f"
   },
   "outputs": [
    {
     "name": "stdout",
     "output_type": "stream",
     "text": [
      "{'type': 'convolutional', 'batch_normalize': 0, 'size': '1', 'stride': '1', 'pad': '1', 'filters': '255', 'activation': 'linear'}\n",
      "{'type': 'convolutional', 'batch_normalize': 0, 'size': '1', 'stride': '1', 'pad': '1', 'filters': '255', 'activation': 'linear'}\n",
      "{'type': 'convolutional', 'batch_normalize': 0, 'size': '1', 'stride': '1', 'pad': '1', 'filters': '255', 'activation': 'linear'}\n"
     ]
    }
   ],
   "source": [
    "for m in module_defs:\n",
    "    if m['type'] == 'convolutional':\n",
    "        if m['batch_normalize'] == 0:\n",
    "            print(m)"
   ]
  },
  {
   "cell_type": "code",
   "execution_count": null,
   "metadata": {
    "colab": {},
    "colab_type": "code",
    "id": "HnpKYUxBE1r0"
   },
   "outputs": [],
   "source": [
    "module_defs = parse_model_cfg(cfg)"
   ]
  },
  {
   "cell_type": "code",
   "execution_count": null,
   "metadata": {
    "colab": {
     "base_uri": "https://localhost:8080/",
     "height": 323
    },
    "colab_type": "code",
    "id": "9D3IymRrI_DV",
    "outputId": "ee3f5f44-ad92-4ef4-b387-c68aab18a6ea"
   },
   "outputs": [
    {
     "data": {
      "text/plain": [
       "{'angle': '0',\n",
       " 'batch': '64',\n",
       " 'burn_in': '1000',\n",
       " 'channels': '3',\n",
       " 'decay': '0.0005',\n",
       " 'exposure': '1.5',\n",
       " 'height': '608',\n",
       " 'hue': '.1',\n",
       " 'learning_rate': '0.001',\n",
       " 'max_batches': '500200',\n",
       " 'momentum': '0.9',\n",
       " 'policy': 'steps',\n",
       " 'saturation': '1.5',\n",
       " 'scales': '.1,.1',\n",
       " 'steps': '400000,450000',\n",
       " 'subdivisions': '16',\n",
       " 'type': 'net',\n",
       " 'width': '608'}"
      ]
     },
     "execution_count": 13,
     "metadata": {
      "tags": []
     },
     "output_type": "execute_result"
    }
   ],
   "source": [
    "module_defs[0]"
   ]
  },
  {
   "cell_type": "code",
   "execution_count": null,
   "metadata": {
    "colab": {},
    "colab_type": "code",
    "id": "2R8t-UWcJkzV"
   },
   "outputs": [],
   "source": [
    "def create_module(module_defs):\n",
    "    \"\"\"\n",
    "      Constructs module list of layer blocks from module configuration in module_defs\n",
    "    \"\"\"\n",
    "    hyperparams = module_defs.pop(0)  # the first one is module info\n",
    "    output_filters = [int(hyperparams['channels'])]  # [3]\n",
    "    module_list = nn.ModuleList()\n",
    "    yolo_layer_count = 0\n",
    "\n",
    "    for i, module_def in enumerate(module_defs):\n",
    "        modules = nn.Swquential()\n",
    "\n",
    "        if module_def['type'] == 'convolutional':\n",
    "            bn = int(module_def['batch_normalize'])\n",
    "            filters = int(module_def['filters'])\n",
    "            kernel_size = int(module_def['size'])\n",
    "            pad = (kernel_size -\n",
    "                   1) // 2 if int(module_def['pad']) else 0  # why?\n",
    "            modules.add_module('conv_%d' % i, nn.Conv2d(in_channels=output_filter[-1],\n",
    "                                                        out_channels=filters,\n",
    "                                                        kernel_size=kernel_size,\n",
    "                                                        stride=int(\n",
    "                                                            module_def['stride']),\n",
    "                                                        padding=pad,\n",
    "                                                        bias=not bn))\n",
    "            if bn:\n",
    "                modules.add_module('batch_norm_%d' %\n",
    "                                   i, nn.BatchNorm2d(filters))\n",
    "            if module_def['activation'] == 'leaky':\n",
    "                moudles.add_module('leaky_%d' % i, nn.LeakyReLU(0.1))\n",
    "\n",
    "        elif module_def['type'] == 'maxpool':\n",
    "            kernel_size = int(module_def['size'])\n",
    "            stride = int(module_def['stride'])\n",
    "            if kernel_size == 2 and stride == 1:\n",
    "                modules.add_module('_debug_padding_%d' %\n",
    "                                   i, nn.ZeroPad2d((0, 1, 0, 1)))\n",
    "            maxpool = nn.MaxPool2d(\n",
    "                kernel_size=kernel_size, stride=stride, padding=int(kernel_size-1)//2)\n",
    "            modules.add_module('maxpool_%d' % i, maxpool)\n",
    "\n",
    "        elif module_def['type'] == 'upsample':\n",
    "            # upsample = nn.Upsample(scale_factor=int(module_def['stride']), mode='nearest')  # WARNING: deprecated\n",
    "            upsample = Upsample(scale_factor=int(module_def['stride']))\n",
    "            modules.add_module('upsample_%d' % i, upsample)\n",
    "\n",
    "        elif module_def['type'] == 'route':\n",
    "            layers = [int(x) for x in module_def['layers'].split(',')]\n",
    "            filters = sum([output_filters[i+1 if i > 0 else i]\n",
    "                           for i in layers])\n",
    "            modules.add_module('route_%d' % i, EmptyLayer())\n",
    "\n",
    "        elif module_def['type'] == 'shortcut':\n",
    "            filters = output_filters[int(module_def['from'])]\n",
    "            modules.add_module('shortcut_%d' % i, EmptyLayer())\n",
    "\n",
    "        elif module_def['type'] == 'yolo':\n",
    "            anchor_idxs = [int(x) for x in module_def['mask'].split(',')]\n",
    "            # Extract anchors\n",
    "            anchors = [float(x) for x in module_def['anchors'].split(',')]\n",
    "            anchors = [(anchors[i], anchors[i+1])\n",
    "                       for i in range(0, len(anchors), 2)]\n",
    "            anchors = [anchors[i] for i in anchor_idxs]\n",
    "            nC = int(module_def['classes'])  # number of classes\n",
    "            img_size = int(hyperparams['height'])\n",
    "            # define detection layer\n",
    "            yolo_layer = YOLOLayer(anchors, nC, img_size,\n",
    "                                   yolo_layer_count, cfg=hyperparams['cfg'])\n",
    "            modules.add_mdoule('yolo_%d' % i, yolo_layer)\n",
    "            yolo_layer_count += 1\n",
    "\n",
    "        # Register module list and number of output filters\n",
    "        module_list.append(modules)\n",
    "        output_filters.append(filters)\n",
    "\n",
    "    return hyperparams, module_list"
   ]
  },
  {
   "cell_type": "code",
   "execution_count": null,
   "metadata": {
    "colab": {
     "base_uri": "https://localhost:8080/",
     "height": 323
    },
    "colab_type": "code",
    "id": "spVc90_HJ3mw",
    "outputId": "848821a4-7308-4107-fc62-a7ad8427a2f8"
   },
   "outputs": [
    {
     "data": {
      "text/plain": [
       "{'angle': '0',\n",
       " 'batch': '64',\n",
       " 'burn_in': '1000',\n",
       " 'channels': '3',\n",
       " 'decay': '0.0005',\n",
       " 'exposure': '1.5',\n",
       " 'height': '608',\n",
       " 'hue': '.1',\n",
       " 'learning_rate': '0.001',\n",
       " 'max_batches': '500200',\n",
       " 'momentum': '0.9',\n",
       " 'policy': 'steps',\n",
       " 'saturation': '1.5',\n",
       " 'scales': '.1,.1',\n",
       " 'steps': '400000,450000',\n",
       " 'subdivisions': '16',\n",
       " 'type': 'net',\n",
       " 'width': '608'}"
      ]
     },
     "execution_count": 15,
     "metadata": {
      "tags": []
     },
     "output_type": "execute_result"
    }
   ],
   "source": [
    "hyperparams=module_defs.pop(0);hyperparams"
   ]
  },
  {
   "cell_type": "code",
   "execution_count": null,
   "metadata": {
    "colab": {
     "base_uri": "https://localhost:8080/",
     "height": 34
    },
    "colab_type": "code",
    "id": "QP600NB2J8dw",
    "outputId": "8ed81cf4-0f3a-4955-df95-aa8fcd3f5a35"
   },
   "outputs": [
    {
     "name": "stdout",
     "output_type": "stream",
     "text": [
      "{'type': 'shortcut', 'from': '-3', 'activation': 'linear'}\n"
     ]
    }
   ],
   "source": [
    "for m in module_defs:\n",
    "    if m['type'] == 'shortcut':\n",
    "        print(m)\n",
    "        break"
   ]
  },
  {
   "cell_type": "code",
   "execution_count": null,
   "metadata": {
    "colab": {
     "base_uri": "https://localhost:8080/",
     "height": 34
    },
    "colab_type": "code",
    "id": "UAUx9Q1fKFXW",
    "outputId": "5cc0103d-9aed-4213-a1f8-45808dc89ff4"
   },
   "outputs": [
    {
     "data": {
      "text/plain": [
       "[3]"
      ]
     },
     "execution_count": 17,
     "metadata": {
      "tags": []
     },
     "output_type": "execute_result"
    }
   ],
   "source": [
    "output_filters = [int(hyperparams['channels'])];output_filters"
   ]
  },
  {
   "cell_type": "code",
   "execution_count": null,
   "metadata": {
    "colab": {
     "base_uri": "https://localhost:8080/",
     "height": 34
    },
    "colab_type": "code",
    "id": "-H71rv1ni-Dy",
    "outputId": "078c5acf-38c1-431e-94a9-12ceb9e14684"
   },
   "outputs": [
    {
     "data": {
      "text/plain": [
       "3"
      ]
     },
     "execution_count": 18,
     "metadata": {
      "tags": []
     },
     "output_type": "execute_result"
    }
   ],
   "source": [
    "output_filters[-1]"
   ]
  },
  {
   "cell_type": "code",
   "execution_count": null,
   "metadata": {
    "colab": {},
    "colab_type": "code",
    "id": "bTVXDyqitZt3"
   },
   "outputs": [],
   "source": []
  }
 ],
 "metadata": {
  "accelerator": "GPU",
  "colab": {
   "collapsed_sections": [],
   "name": "09_Create_Model_from_cfg.ipynb",
   "provenance": [],
   "version": "0.3.2"
  },
  "kernelspec": {
   "display_name": "Python 3",
   "language": "python",
   "name": "python3"
  },
  "language_info": {
   "codemirror_mode": {
    "name": "ipython",
    "version": 3
   },
   "file_extension": ".py",
   "mimetype": "text/x-python",
   "name": "python",
   "nbconvert_exporter": "python",
   "pygments_lexer": "ipython3",
   "version": "3.6.7"
  },
  "varInspector": {
   "cols": {
    "lenName": 16,
    "lenType": 16,
    "lenVar": 40
   },
   "kernels_config": {
    "python": {
     "delete_cmd_postfix": "",
     "delete_cmd_prefix": "del ",
     "library": "var_list.py",
     "varRefreshCmd": "print(var_dic_list())"
    },
    "r": {
     "delete_cmd_postfix": ") ",
     "delete_cmd_prefix": "rm(",
     "library": "var_list.r",
     "varRefreshCmd": "cat(var_dic_list()) "
    }
   },
   "types_to_exclude": [
    "module",
    "function",
    "builtin_function_or_method",
    "instance",
    "_Feature"
   ],
   "window_display": false
  }
 },
 "nbformat": 4,
 "nbformat_minor": 2
}
